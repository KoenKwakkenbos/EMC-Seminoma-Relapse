{
 "cells": [
  {
   "cell_type": "code",
   "execution_count": 1,
   "metadata": {},
   "outputs": [],
   "source": [
    "# imports\n",
    "import os\n",
    "os.environ['R_HOME'] = 'C:\\\\Users\\\\093637\\\\AppData\\\\Local\\\\Programs\\\\R\\\\R-4.3.1'\n",
    "\n",
    "import pandas as pd\n",
    "import matplotlib.pyplot as plt\n",
    "import numpy as np\n",
    "\n",
    "from lifelines import KaplanMeierFitter\n",
    "from lifelines import CoxPHFitter\n",
    "from lifelines.utils import concordance_index as cindex\n",
    "from sklearn.model_selection import train_test_split\n",
    "from sklearn.preprocessing import OneHotEncoder"
   ]
  },
  {
   "cell_type": "code",
   "execution_count": 2,
   "metadata": {},
   "outputs": [
    {
     "data": {
      "text/html": [
       "<div>\n",
       "<style scoped>\n",
       "    .dataframe tbody tr th:only-of-type {\n",
       "        vertical-align: middle;\n",
       "    }\n",
       "\n",
       "    .dataframe tbody tr th {\n",
       "        vertical-align: top;\n",
       "    }\n",
       "\n",
       "    .dataframe thead th {\n",
       "        text-align: right;\n",
       "    }\n",
       "</style>\n",
       "<table border=\"1\" class=\"dataframe\">\n",
       "  <thead>\n",
       "    <tr style=\"text-align: right;\">\n",
       "      <th></th>\n",
       "      <th>StudyID</th>\n",
       "      <th>EMCcohort</th>\n",
       "      <th>IncludedInPreviousModel</th>\n",
       "      <th>Tissue</th>\n",
       "      <th>TumorSize</th>\n",
       "      <th>Tumor4cmOrLarger</th>\n",
       "      <th>RTI</th>\n",
       "      <th>LVI_TCGA</th>\n",
       "      <th>LVI</th>\n",
       "      <th>NeoadjuvantChemotherapy</th>\n",
       "      <th>...</th>\n",
       "      <th>RTIstromal</th>\n",
       "      <th>RTIpagetoid</th>\n",
       "      <th>LymphovascularInvastion</th>\n",
       "      <th>PercentageRegression</th>\n",
       "      <th>InvasionEpididymis</th>\n",
       "      <th>InvasionParatesticularTissue</th>\n",
       "      <th>InvasionTunicaVaginalis</th>\n",
       "      <th>InvasionSpermaticCord</th>\n",
       "      <th>SurgicalMargin</th>\n",
       "      <th>Treatments</th>\n",
       "    </tr>\n",
       "    <tr>\n",
       "      <th>PatientNr</th>\n",
       "      <th></th>\n",
       "      <th></th>\n",
       "      <th></th>\n",
       "      <th></th>\n",
       "      <th></th>\n",
       "      <th></th>\n",
       "      <th></th>\n",
       "      <th></th>\n",
       "      <th></th>\n",
       "      <th></th>\n",
       "      <th></th>\n",
       "      <th></th>\n",
       "      <th></th>\n",
       "      <th></th>\n",
       "      <th></th>\n",
       "      <th></th>\n",
       "      <th></th>\n",
       "      <th></th>\n",
       "      <th></th>\n",
       "      <th></th>\n",
       "      <th></th>\n",
       "    </tr>\n",
       "  </thead>\n",
       "  <tbody>\n",
       "    <tr>\n",
       "      <th>AAEW</th>\n",
       "      <td>TCGA-2G-AAEW</td>\n",
       "      <td></td>\n",
       "      <td>No</td>\n",
       "      <td>Testis</td>\n",
       "      <td>6.0</td>\n",
       "      <td>Yes</td>\n",
       "      <td>Yes</td>\n",
       "      <td>1.0</td>\n",
       "      <td>Yes</td>\n",
       "      <td>NaN</td>\n",
       "      <td>...</td>\n",
       "      <td>NaN</td>\n",
       "      <td>NaN</td>\n",
       "      <td>Yes</td>\n",
       "      <td>NaN</td>\n",
       "      <td>No</td>\n",
       "      <td>No</td>\n",
       "      <td></td>\n",
       "      <td>No</td>\n",
       "      <td>No</td>\n",
       "      <td></td>\n",
       "    </tr>\n",
       "    <tr>\n",
       "      <th>AAEX</th>\n",
       "      <td>TCGA-2G-AAEX</td>\n",
       "      <td></td>\n",
       "      <td>No</td>\n",
       "      <td>Testis</td>\n",
       "      <td>7.0</td>\n",
       "      <td>Yes</td>\n",
       "      <td>No</td>\n",
       "      <td>0.0</td>\n",
       "      <td>No</td>\n",
       "      <td>NaN</td>\n",
       "      <td>...</td>\n",
       "      <td>NaN</td>\n",
       "      <td>NaN</td>\n",
       "      <td>No</td>\n",
       "      <td>NaN</td>\n",
       "      <td>No</td>\n",
       "      <td>No</td>\n",
       "      <td></td>\n",
       "      <td>No</td>\n",
       "      <td>No</td>\n",
       "      <td></td>\n",
       "    </tr>\n",
       "    <tr>\n",
       "      <th>AAF1</th>\n",
       "      <td>TCGA-2G-AAF1</td>\n",
       "      <td></td>\n",
       "      <td>No</td>\n",
       "      <td>Testis</td>\n",
       "      <td>6.5</td>\n",
       "      <td>Yes</td>\n",
       "      <td>Yes</td>\n",
       "      <td>1.0</td>\n",
       "      <td>Yes</td>\n",
       "      <td>NaN</td>\n",
       "      <td>...</td>\n",
       "      <td>NaN</td>\n",
       "      <td>NaN</td>\n",
       "      <td>NaN</td>\n",
       "      <td>NaN</td>\n",
       "      <td>No</td>\n",
       "      <td>No</td>\n",
       "      <td></td>\n",
       "      <td>No</td>\n",
       "      <td>No</td>\n",
       "      <td></td>\n",
       "    </tr>\n",
       "    <tr>\n",
       "      <th>AAF4</th>\n",
       "      <td>TCGA-2G-AAF4</td>\n",
       "      <td></td>\n",
       "      <td>No</td>\n",
       "      <td>Testis</td>\n",
       "      <td>6.0</td>\n",
       "      <td>Yes</td>\n",
       "      <td>Yes</td>\n",
       "      <td>1.0</td>\n",
       "      <td>Yes</td>\n",
       "      <td>NaN</td>\n",
       "      <td>...</td>\n",
       "      <td>NaN</td>\n",
       "      <td>NaN</td>\n",
       "      <td>NaN</td>\n",
       "      <td>NaN</td>\n",
       "      <td>No</td>\n",
       "      <td>No</td>\n",
       "      <td></td>\n",
       "      <td>No</td>\n",
       "      <td>No</td>\n",
       "      <td></td>\n",
       "    </tr>\n",
       "    <tr>\n",
       "      <th>AAF6</th>\n",
       "      <td>TCGA-2G-AAF6</td>\n",
       "      <td></td>\n",
       "      <td>No</td>\n",
       "      <td>Testis</td>\n",
       "      <td>6.0</td>\n",
       "      <td>Yes</td>\n",
       "      <td>No</td>\n",
       "      <td>0.0</td>\n",
       "      <td>No</td>\n",
       "      <td>NaN</td>\n",
       "      <td>...</td>\n",
       "      <td>NaN</td>\n",
       "      <td>NaN</td>\n",
       "      <td>NaN</td>\n",
       "      <td>NaN</td>\n",
       "      <td>No</td>\n",
       "      <td>No</td>\n",
       "      <td></td>\n",
       "      <td>No</td>\n",
       "      <td>No</td>\n",
       "      <td></td>\n",
       "    </tr>\n",
       "  </tbody>\n",
       "</table>\n",
       "<p>5 rows × 37 columns</p>\n",
       "</div>"
      ],
      "text/plain": [
       "                StudyID EMCcohort IncludedInPreviousModel  Tissue  TumorSize  \\\n",
       "PatientNr                                                                      \n",
       "AAEW       TCGA-2G-AAEW                                No  Testis        6.0   \n",
       "AAEX       TCGA-2G-AAEX                                No  Testis        7.0   \n",
       "AAF1       TCGA-2G-AAF1                                No  Testis        6.5   \n",
       "AAF4       TCGA-2G-AAF4                                No  Testis        6.0   \n",
       "AAF6       TCGA-2G-AAF6                                No  Testis        6.0   \n",
       "\n",
       "          Tumor4cmOrLarger  RTI  LVI_TCGA  LVI NeoadjuvantChemotherapy  ...  \\\n",
       "PatientNr                                                               ...   \n",
       "AAEW                   Yes  Yes       1.0  Yes                     NaN  ...   \n",
       "AAEX                   Yes   No       0.0   No                     NaN  ...   \n",
       "AAF1                   Yes  Yes       1.0  Yes                     NaN  ...   \n",
       "AAF4                   Yes  Yes       1.0  Yes                     NaN  ...   \n",
       "AAF6                   Yes   No       0.0   No                     NaN  ...   \n",
       "\n",
       "          RTIstromal RTIpagetoid LymphovascularInvastion PercentageRegression  \\\n",
       "PatientNr                                                                       \n",
       "AAEW             NaN         NaN                     Yes                  NaN   \n",
       "AAEX             NaN         NaN                      No                  NaN   \n",
       "AAF1             NaN         NaN                     NaN                  NaN   \n",
       "AAF4             NaN         NaN                     NaN                  NaN   \n",
       "AAF6             NaN         NaN                     NaN                  NaN   \n",
       "\n",
       "          InvasionEpididymis  InvasionParatesticularTissue  \\\n",
       "PatientNr                                                    \n",
       "AAEW                      No                            No   \n",
       "AAEX                      No                            No   \n",
       "AAF1                      No                            No   \n",
       "AAF4                      No                            No   \n",
       "AAF6                      No                            No   \n",
       "\n",
       "           InvasionTunicaVaginalis InvasionSpermaticCord SurgicalMargin  \\\n",
       "PatientNr                                                                 \n",
       "AAEW                                                  No             No   \n",
       "AAEX                                                  No             No   \n",
       "AAF1                                                  No             No   \n",
       "AAF4                                                  No             No   \n",
       "AAF6                                                  No             No   \n",
       "\n",
       "          Treatments  \n",
       "PatientNr             \n",
       "AAEW                  \n",
       "AAEX                  \n",
       "AAF1                  \n",
       "AAF4                  \n",
       "AAF6                  \n",
       "\n",
       "[5 rows x 37 columns]"
      ]
     },
     "execution_count": 2,
     "metadata": {},
     "output_type": "execute_result"
    }
   ],
   "source": [
    "dataset_raw = pd.read_spss(\"W:\\Cohort_TCGA\\TCGA_clinical_data.sav\").set_index('PatientNr')\n",
    "dataset_raw.head()"
   ]
  },
  {
   "cell_type": "code",
   "execution_count": 6,
   "metadata": {},
   "outputs": [],
   "source": [
    "drop_columns = [\n",
    "    'StudyID',\n",
    "    'EMCcohort',\n",
    "    'IncludedInPreviousModel',\n",
    "    'Tissue',\n",
    "    'PureSeminoma',\n",
    "    'NonSeminomaSubtype',\n",
    "    'Comment',\n",
    "    'Treatments',\n",
    "    'ChemotherapyAtDiagnosis', # Not sure if to drop this\n",
    "    'InvasionEpididymis',\n",
    "    'TimingMetastases', # model cannot see this\n",
    "    'Death',\n",
    "    'DiseaseRelatedDeath',\n",
    "    'InvasionTunicaVaginalis',\n",
    "    'InvasionSpermaticCord',\n",
    "    # 'InvasionParatesticularTissue',\n",
    "    'SurgicalMargin',\n",
    "    'TimetoDeathOrEFU',\n",
    "    'NeoadjuvantChemotherapy',\n",
    "    'Syncytiotrofoblast'\n",
    "]\n",
    "\n",
    "\n",
    "\n",
    "continuous_columns = [\n",
    "    'TumorSize',\n",
    "    # 'PercentageNecrosis',\n",
    "    # 'PercentageRegression'\n",
    "]\n",
    "\n",
    "# dataset_processed = dataset_raw.drop(drop_columns, axis=1)\n",
    "# dataset_processed.Metastases = dataset_processed.Metastases.replace({'Yes': 1, 'No': 0}).astype(int)\n",
    "dataset_processed = dataset_raw[['TimetoMetastasesOrEFU', 'Metastases', 'LVI', 'RTI', 'AdjuvantTreatment', 'TumorSize']].replace({'Yes': 1, 'No': 0}).dropna(axis=0).copy()\n",
    "dataset_processed.head(5)\n",
    "\n",
    "for col in dataset_processed:\n",
    "    if dataset_processed[col].dtype == 'category':\n",
    "        dataset_processed[col] = dataset_processed[col].cat.codes.astype(int)\n",
    "\n",
    "dataset_processed.fillna(0, inplace=True)\n",
    "dataset_processed.drop((dataset_processed[dataset_processed['TimetoMetastasesOrEFU'] < 0]).index, axis=0, inplace=True)"
   ]
  },
  {
   "cell_type": "code",
   "execution_count": 7,
   "metadata": {},
   "outputs": [],
   "source": [
    "def to_one_hot(dataframe, columns):\n",
    "    '''\n",
    "    Convert columns in dataframe to one-hot encoding.\n",
    "    Args:\n",
    "        dataframe (dataframe): pandas dataframe containing covariates\n",
    "        columns (list of strings): list categorical column names to one hot encode\n",
    "    Returns:\n",
    "        one_hot_df (dataframe): dataframe with categorical columns encoded\n",
    "                            as binary variables\n",
    "    '''\n",
    "  \n",
    "    one_hot_df = pd.get_dummies(dataframe, columns=columns, drop_first=True)\n",
    "    \n",
    "    return one_hot_df"
   ]
  },
  {
   "cell_type": "code",
   "execution_count": 7,
   "metadata": {},
   "outputs": [],
   "source": [
    "# One hot\n",
    "to_encode = [\n",
    "    'LymphocyticInfiltration',\n",
    "    # 'Syncytiotrofoblast',\n",
    "    'TypeAdjuvantTreatment',\n",
    "    #'TimingMetastases',\n",
    "    'AdjuvantTreatment'\n",
    "]\n",
    "\n",
    "# dataset_one_hot = to_one_hot(dataset_processed, to_encode)\n",
    "dataset_one_hot = dataset_processed.copy()"
   ]
  },
  {
   "cell_type": "code",
   "execution_count": 8,
   "metadata": {},
   "outputs": [],
   "source": [
    "np.random.seed(12)\n",
    "df_dev, df_test = train_test_split(dataset_one_hot, test_size = 0.2, stratify=dataset_one_hot['Metastases'])\n",
    "df_train, df_val = train_test_split(df_dev, test_size = 0.25, stratify=df_dev['Metastases'])\n",
    "\n",
    "# Unskew and normalize data\n",
    "mean = np.log(df_train.loc[:, continuous_columns]+1).mean()\n",
    "std = np.log(df_train.loc[:, continuous_columns]+1).std()\n",
    "df_train.loc[:, continuous_columns] = (np.log(df_train.loc[:, continuous_columns]+1) - mean) / std\n",
    "df_val.loc[:, continuous_columns] = (np.log(df_val.loc[:, continuous_columns]+1) - mean) / std\n",
    "df_test.loc[:, continuous_columns] = (np.log(df_test.loc[:, continuous_columns]+1) - mean) / std\n",
    "\n",
    "one_hot_train = df_train\n",
    "one_hot_val = df_val\n",
    "one_hot_test = df_test\n"
   ]
  },
  {
   "cell_type": "code",
   "execution_count": 9,
   "metadata": {},
   "outputs": [
    {
     "data": {
      "text/plain": [
       "Index(['TimetoMetastasesOrEFU', 'Metastases', 'LVI', 'RTI',\n",
       "       'AdjuvantTreatment', 'TumorSize'],\n",
       "      dtype='object')"
      ]
     },
     "execution_count": 9,
     "metadata": {},
     "output_type": "execute_result"
    }
   ],
   "source": [
    "one_hot_val.columns"
   ]
  },
  {
   "cell_type": "code",
   "execution_count": 191,
   "metadata": {},
   "outputs": [
    {
     "data": {
      "text/plain": [
       "<lifelines.CoxPHFitter: fitted with 25 total observations, 21 right-censored observations>"
      ]
     },
     "execution_count": 191,
     "metadata": {},
     "output_type": "execute_result"
    }
   ],
   "source": [
    "cph = CoxPHFitter(penalizer=0.0001)\n",
    "cph.fit(one_hot_train, duration_col = 'TimetoMetastasesOrEFU', event_col = 'Metastases', fit_options={'step_size':0.1})"
   ]
  },
  {
   "cell_type": "code",
   "execution_count": 192,
   "metadata": {},
   "outputs": [
    {
     "data": {
      "text/html": [
       "<div>\n",
       "<style scoped>\n",
       "    .dataframe tbody tr th:only-of-type {\n",
       "        vertical-align: middle;\n",
       "    }\n",
       "\n",
       "    .dataframe tbody tr th {\n",
       "        vertical-align: top;\n",
       "    }\n",
       "\n",
       "    .dataframe thead th {\n",
       "        text-align: right;\n",
       "    }\n",
       "</style>\n",
       "<table border=\"1\" class=\"dataframe\">\n",
       "  <tbody>\n",
       "    <tr>\n",
       "      <th>model</th>\n",
       "      <td>lifelines.CoxPHFitter</td>\n",
       "    </tr>\n",
       "    <tr>\n",
       "      <th>duration col</th>\n",
       "      <td>'TimetoMetastasesOrEFU'</td>\n",
       "    </tr>\n",
       "    <tr>\n",
       "      <th>event col</th>\n",
       "      <td>'Metastases'</td>\n",
       "    </tr>\n",
       "    <tr>\n",
       "      <th>penalizer</th>\n",
       "      <td>0.0001</td>\n",
       "    </tr>\n",
       "    <tr>\n",
       "      <th>l1 ratio</th>\n",
       "      <td>0.0</td>\n",
       "    </tr>\n",
       "    <tr>\n",
       "      <th>baseline estimation</th>\n",
       "      <td>breslow</td>\n",
       "    </tr>\n",
       "    <tr>\n",
       "      <th>number of observations</th>\n",
       "      <td>25</td>\n",
       "    </tr>\n",
       "    <tr>\n",
       "      <th>number of events observed</th>\n",
       "      <td>4</td>\n",
       "    </tr>\n",
       "    <tr>\n",
       "      <th>partial log-likelihood</th>\n",
       "      <td>-5.24</td>\n",
       "    </tr>\n",
       "    <tr>\n",
       "      <th>time fit was run</th>\n",
       "      <td>2023-09-27 09:28:52 UTC</td>\n",
       "    </tr>\n",
       "  </tbody>\n",
       "</table>\n",
       "</div><table border=\"1\" class=\"dataframe\">\n",
       "  <thead>\n",
       "    <tr style=\"text-align: right;\">\n",
       "      <th style=\"min-width: 12px;\"></th>\n",
       "      <th style=\"min-width: 12px;\">coef</th>\n",
       "      <th style=\"min-width: 12px;\">exp(coef)</th>\n",
       "      <th style=\"min-width: 12px;\">se(coef)</th>\n",
       "      <th style=\"min-width: 12px;\">coef lower 95%</th>\n",
       "      <th style=\"min-width: 12px;\">coef upper 95%</th>\n",
       "      <th style=\"min-width: 12px;\">exp(coef) lower 95%</th>\n",
       "      <th style=\"min-width: 12px;\">exp(coef) upper 95%</th>\n",
       "      <th style=\"min-width: 12px;\">cmp to</th>\n",
       "      <th style=\"min-width: 12px;\">z</th>\n",
       "      <th style=\"min-width: 12px;\">p</th>\n",
       "      <th style=\"min-width: 12px;\">-log2(p)</th>\n",
       "    </tr>\n",
       "  </thead>\n",
       "  <tbody>\n",
       "    <tr>\n",
       "      <th>LVI</th>\n",
       "      <td>-6.47</td>\n",
       "      <td>0.00</td>\n",
       "      <td>15.38</td>\n",
       "      <td>-36.63</td>\n",
       "      <td>23.68</td>\n",
       "      <td>0.00</td>\n",
       "      <td>1.92e+10</td>\n",
       "      <td>0.00</td>\n",
       "      <td>-0.42</td>\n",
       "      <td>0.67</td>\n",
       "      <td>0.57</td>\n",
       "    </tr>\n",
       "    <tr>\n",
       "      <th>RTI</th>\n",
       "      <td>0.27</td>\n",
       "      <td>1.31</td>\n",
       "      <td>1.34</td>\n",
       "      <td>-2.35</td>\n",
       "      <td>2.89</td>\n",
       "      <td>0.10</td>\n",
       "      <td>18.01</td>\n",
       "      <td>0.00</td>\n",
       "      <td>0.20</td>\n",
       "      <td>0.84</td>\n",
       "      <td>0.25</td>\n",
       "    </tr>\n",
       "    <tr>\n",
       "      <th>AdjuvantTreatment</th>\n",
       "      <td>-1.34</td>\n",
       "      <td>0.26</td>\n",
       "      <td>1.49</td>\n",
       "      <td>-4.27</td>\n",
       "      <td>1.59</td>\n",
       "      <td>0.01</td>\n",
       "      <td>4.92</td>\n",
       "      <td>0.00</td>\n",
       "      <td>-0.89</td>\n",
       "      <td>0.37</td>\n",
       "      <td>1.43</td>\n",
       "    </tr>\n",
       "    <tr>\n",
       "      <th>TumorSize</th>\n",
       "      <td>0.43</td>\n",
       "      <td>1.53</td>\n",
       "      <td>0.74</td>\n",
       "      <td>-1.02</td>\n",
       "      <td>1.87</td>\n",
       "      <td>0.36</td>\n",
       "      <td>6.52</td>\n",
       "      <td>0.00</td>\n",
       "      <td>0.58</td>\n",
       "      <td>0.56</td>\n",
       "      <td>0.83</td>\n",
       "    </tr>\n",
       "  </tbody>\n",
       "</table><br><div>\n",
       "<style scoped>\n",
       "    .dataframe tbody tr th:only-of-type {\n",
       "        vertical-align: middle;\n",
       "    }\n",
       "\n",
       "    .dataframe tbody tr th {\n",
       "        vertical-align: top;\n",
       "    }\n",
       "\n",
       "    .dataframe thead th {\n",
       "        text-align: right;\n",
       "    }\n",
       "</style>\n",
       "<table border=\"1\" class=\"dataframe\">\n",
       "  <tbody>\n",
       "    <tr>\n",
       "      <th>Concordance</th>\n",
       "      <td>0.64</td>\n",
       "    </tr>\n",
       "    <tr>\n",
       "      <th>Partial AIC</th>\n",
       "      <td>18.48</td>\n",
       "    </tr>\n",
       "    <tr>\n",
       "      <th>log-likelihood ratio test</th>\n",
       "      <td>3.80 on 4 df</td>\n",
       "    </tr>\n",
       "    <tr>\n",
       "      <th>-log2(p) of ll-ratio test</th>\n",
       "      <td>1.21</td>\n",
       "    </tr>\n",
       "  </tbody>\n",
       "</table>\n",
       "</div>"
      ],
      "text/latex": [
       "\\begin{tabular}{lrrrrrrrrrrr}\n",
       " & coef & exp(coef) & se(coef) & coef lower 95% & coef upper 95% & exp(coef) lower 95% & exp(coef) upper 95% & cmp to & z & p & -log2(p) \\\\\n",
       "covariate &  &  &  &  &  &  &  &  &  &  &  \\\\\n",
       "LVI & -6.47 & 0.00 & 15.38 & -36.63 & 23.68 & 0.00 & 19219191120.13 & 0.00 & -0.42 & 0.67 & 0.57 \\\\\n",
       "RTI & 0.27 & 1.31 & 1.34 & -2.35 & 2.89 & 0.10 & 18.01 & 0.00 & 0.20 & 0.84 & 0.25 \\\\\n",
       "AdjuvantTreatment & -1.34 & 0.26 & 1.49 & -4.27 & 1.59 & 0.01 & 4.92 & 0.00 & -0.89 & 0.37 & 1.43 \\\\\n",
       "TumorSize & 0.43 & 1.53 & 0.74 & -1.02 & 1.87 & 0.36 & 6.52 & 0.00 & 0.58 & 0.56 & 0.83 \\\\\n",
       "\\end{tabular}\n"
      ],
      "text/plain": [
       "<lifelines.CoxPHFitter: fitted with 25 total observations, 21 right-censored observations>\n",
       "             duration col = 'TimetoMetastasesOrEFU'\n",
       "                event col = 'Metastases'\n",
       "                penalizer = 0.0001\n",
       "                 l1 ratio = 0.0\n",
       "      baseline estimation = breslow\n",
       "   number of observations = 25\n",
       "number of events observed = 4\n",
       "   partial log-likelihood = -5.24\n",
       "         time fit was run = 2023-09-27 09:28:52 UTC\n",
       "\n",
       "---\n",
       "                    coef  exp(coef)   se(coef)   coef lower 95%   coef upper 95%  exp(coef) lower 95%  exp(coef) upper 95%\n",
       "covariate                                                                                                                 \n",
       "LVI                -6.47       0.00      15.38           -36.63            23.68                 0.00             1.92e+10\n",
       "RTI                 0.27       1.31       1.34            -2.35             2.89                 0.10                18.01\n",
       "AdjuvantTreatment  -1.34       0.26       1.49            -4.27             1.59                 0.01                 4.92\n",
       "TumorSize           0.43       1.53       0.74            -1.02             1.87                 0.36                 6.52\n",
       "\n",
       "                    cmp to     z    p   -log2(p)\n",
       "covariate                                       \n",
       "LVI                   0.00 -0.42 0.67       0.57\n",
       "RTI                   0.00  0.20 0.84       0.25\n",
       "AdjuvantTreatment     0.00 -0.89 0.37       1.43\n",
       "TumorSize             0.00  0.58 0.56       0.83\n",
       "---\n",
       "Concordance = 0.64\n",
       "Partial AIC = 18.48\n",
       "log-likelihood ratio test = 3.80 on 4 df\n",
       "-log2(p) of ll-ratio test = 1.21"
      ]
     },
     "metadata": {},
     "output_type": "display_data"
    }
   ],
   "source": [
    "cph.print_summary()"
   ]
  },
  {
   "cell_type": "code",
   "execution_count": 12,
   "metadata": {},
   "outputs": [
    {
     "data": {
      "image/png": "[encoded data removed]",
      "text/plain": [
       "<Figure size 640x480 with 1 Axes>"
      ]
     },
     "metadata": {},
     "output_type": "display_data"
    }
   ],
   "source": [
    "cph.plot_covariate_groups('LVI', values=[0, 1]);"
   ]
  },
  {
   "cell_type": "code",
   "execution_count": 13,
   "metadata": {},
   "outputs": [
    {
     "name": "stdout",
     "output_type": "stream",
     "text": [
      "Train: 0.36\n",
      "Val: 0.9090909090909091\n",
      "Test: 0.75\n"
     ]
    }
   ],
   "source": [
    "scores = cph.predict_partial_hazard(one_hot_train)\n",
    "cox_train_scores = cindex(one_hot_train['TimetoMetastasesOrEFU'].values, scores.values, one_hot_train['Metastases'].values)\n",
    "# Validation\n",
    "scores = cph.predict_partial_hazard(one_hot_val)\n",
    "cox_val_scores = cindex(one_hot_val['TimetoMetastasesOrEFU'].values, scores.values, one_hot_val['Metastases'].values)\n",
    "# Test\n",
    "scores = cph.predict_partial_hazard(one_hot_test)\n",
    "cox_test_scores = cindex(one_hot_test['TimetoMetastasesOrEFU'].values, scores.values, one_hot_test['Metastases'].values)\n",
    "\n",
    "print(\"Train:\", cox_train_scores)\n",
    "print(\"Val:\", cox_val_scores)\n",
    "print(\"Test:\", cox_test_scores)"
   ]
  },
  {
   "cell_type": "code",
   "execution_count": 14,
   "metadata": {},
   "outputs": [
    {
     "name": "stderr",
     "output_type": "stream",
     "text": [
      "c:\\Users\\093637\\AppData\\Local\\anaconda3\\envs\\seminoma-relapse\\Lib\\site-packages\\rpy2\\robjects\\packages.py:367: UserWarning: The symbol 'quartz' is not in this R namespace/package.\n",
      "  warnings.warn(\n"
     ]
    },
    {
     "data": {
      "text/plain": [
       "Loading required package: ggplot2\n",
       "RStudio Community is a great place to get help:\n",
       "https://community.rstudio.com/c/tidyverse\n"
      ]
     },
     "metadata": {},
     "output_type": "display_data"
    }
   ],
   "source": [
    "%load_ext rpy2.ipython\n",
    "%R require(ggplot2)\n",
    "\n",
    "from rpy2.robjects.packages import importr\n",
    "# import R's \"base\" package\n",
    "base = importr('base')\n",
    "\n",
    "# import R's \"utils\" package\n",
    "utils = importr('utils')\n",
    "\n",
    "# import rpy2's package module\n",
    "import rpy2.robjects.packages as rpackages\n",
    "\n",
    "forest = rpackages.importr('randomForestSRC')\n",
    "\n",
    "from rpy2 import robjects as ro\n",
    "R = ro.r\n",
    "\n",
    "from rpy2.robjects import pandas2ri\n",
    "pandas2ri.activate()"
   ]
  },
  {
   "cell_type": "code",
   "execution_count": 15,
   "metadata": {},
   "outputs": [
    {
     "name": "stdout",
     "output_type": "stream",
     "text": [
      "['C:/Users/093637/AppData/Local/Programs/R/R-4.3.1/library']\n"
     ]
    }
   ],
   "source": [
    "print(base._libPaths())"
   ]
  },
  {
   "cell_type": "code",
   "execution_count": 82,
   "metadata": {},
   "outputs": [],
   "source": [
    "df_dev, df_test = train_test_split(dataset_one_hot, test_size = 0.2, stratify=dataset_one_hot['Metastases'])\n",
    "df_train, df_val = train_test_split(df_dev, test_size = 0.25, stratify=df_dev['Metastases'])\n",
    "\n",
    "# Unskew and normalize data\n",
    "mean = np.log(df_dev.loc[:, continuous_columns]+1).mean()\n",
    "std = np.log(df_dev.loc[:, continuous_columns]+1).std()\n",
    "df_train.loc[:, continuous_columns] = (np.log(df_train.loc[:, continuous_columns]+1) - mean) / std\n",
    "df_val.loc[:, continuous_columns] = (np.log(df_val.loc[:, continuous_columns]+1) - mean) / std\n",
    "df_test.loc[:, continuous_columns] = (np.log(df_test.loc[:, continuous_columns]+1) - mean) / std\n",
    "df_dev.loc[:, continuous_columns] = (np.log(df_dev.loc[:, continuous_columns]+1) - mean) / std"
   ]
  },
  {
   "cell_type": "code",
   "execution_count": 50,
   "metadata": {},
   "outputs": [],
   "source": [
    "df_dev_pos = df_dev[df_dev['Metastases'] == 1]"
   ]
  },
  {
   "cell_type": "code",
   "execution_count": 52,
   "metadata": {},
   "outputs": [],
   "source": [
    "df_dev = pd.concat([df_dev, df_dev_pos])"
   ]
  },
  {
   "cell_type": "code",
   "execution_count": 84,
   "metadata": {},
   "outputs": [],
   "source": [
    "model = forest.rfsrc(ro.Formula('Surv(TimetoMetastasesOrEFU, Metastases) ~.'), data=df_train, ntree=5, nodedepth=10)"
   ]
  },
  {
   "cell_type": "code",
   "execution_count": 85,
   "metadata": {},
   "outputs": [
    {
     "name": "stdout",
     "output_type": "stream",
     "text": [
      "Cox Model Validation Score: 0.9090909090909091\n",
      "Survival Forest Validation Score: 0.5\n"
     ]
    }
   ],
   "source": [
    "result = R.predict(model, newdata=df_val)\n",
    "scores = np.array(result.rx('predicted')[0])\n",
    "\n",
    "print(\"Cox Model Validation Score:\", cox_val_scores)\n",
    "print(\"Survival Forest Validation Score:\", cindex(df_val['TimetoMetastasesOrEFU'].values, scores, df_val['Metastases'].values))"
   ]
  },
  {
   "cell_type": "code",
   "execution_count": 79,
   "metadata": {},
   "outputs": [],
   "source": [
    "df_dev = df_dev.astype(float)"
   ]
  },
  {
   "cell_type": "code",
   "execution_count": 88,
   "metadata": {},
   "outputs": [
    {
     "name": "stdout",
     "output_type": "stream",
     "text": [
      "Cox Model Test Score: 0.75\n",
      "Survival Forest Validation Score: 0.5\n"
     ]
    }
   ],
   "source": [
    "result = R.predict(model, newdata=df_test)\n",
    "scores = np.array(result.rx('predicted')[0])\n",
    "\n",
    "print(\"Cox Model Test Score:\", cox_test_scores)\n",
    "print(\"Survival Forest Validation Score:\", cindex(df_test['TimetoMetastasesOrEFU'].values, scores, df_test['Metastases'].values))"
   ]
  },
  {
   "cell_type": "code",
   "execution_count": 92,
   "metadata": {},
   "outputs": [
    {
     "data": {
      "text/plain": [
       "array([0., 0., 0., 0.])"
      ]
     },
     "execution_count": 92,
     "metadata": {},
     "output_type": "execute_result"
    }
   ],
   "source": [
    "forest.vimp(model).rx('importance')[0]"
   ]
  },
  {
   "cell_type": "code",
   "execution_count": 89,
   "metadata": {},
   "outputs": [
    {
     "data": {
      "image/png": "[encoded data removed]",
      "text/plain": [
       "<Figure size 640x480 with 1 Axes>"
      ]
     },
     "metadata": {},
     "output_type": "display_data"
    }
   ],
   "source": [
    "vimps = np.array(forest.vimp(model).rx('importance')[0])\n",
    "\n",
    "y = np.arange(len(vimps))\n",
    "plt.barh(y, np.abs(vimps))\n",
    "plt.yticks(y, df_train.drop(['TimetoMetastasesOrEFU', 'Metastases'], axis=1).columns)\n",
    "plt.title(\"VIMP (absolute value)\")\n",
    "plt.show()"
   ]
  },
  {
   "cell_type": "code",
   "execution_count": 153,
   "metadata": {},
   "outputs": [],
   "source": [
    "from sksurv.tree import SurvivalTree"
   ]
  },
  {
   "cell_type": "code",
   "execution_count": 164,
   "metadata": {},
   "outputs": [],
   "source": [
    "tree = SurvivalTree(max_depth=4)"
   ]
  },
  {
   "cell_type": "code",
   "execution_count": 172,
   "metadata": {},
   "outputs": [],
   "source": [
    "\n",
    "# Iterate over the rows and create tuples\n",
    "y_train = np.array([(a, b) for a, b in zip(df_dev['Metastases'], df_dev['TimetoMetastasesOrEFU'])], dtype='bool,f')"
   ]
  },
  {
   "cell_type": "code",
   "execution_count": 166,
   "metadata": {},
   "outputs": [
    {
     "data": {
      "text/html": [
       "<style>#sk-container-id-5 {color: black;background-color: white;}#sk-container-id-5 pre{padding: 0;}#sk-container-id-5 div.sk-toggleable {background-color: white;}#sk-container-id-5 label.sk-toggleable__label {cursor: pointer;display: block;width: 100%;margin-bottom: 0;padding: 0.3em;box-sizing: border-box;text-align: center;}#sk-container-id-5 label.sk-toggleable__label-arrow:before {content: \"▸\";float: left;margin-right: 0.25em;color: #696969;}#sk-container-id-5 label.sk-toggleable__label-arrow:hover:before {color: black;}#sk-container-id-5 div.sk-estimator:hover label.sk-toggleable__label-arrow:before {color: black;}#sk-container-id-5 div.sk-toggleable__content {max-height: 0;max-width: 0;overflow: hidden;text-align: left;background-color: #f0f8ff;}#sk-container-id-5 div.sk-toggleable__content pre {margin: 0.2em;color: black;border-radius: 0.25em;background-color: #f0f8ff;}#sk-container-id-5 input.sk-toggleable__control:checked~div.sk-toggleable__content {max-height: 200px;max-width: 100%;overflow: auto;}#sk-container-id-5 input.sk-toggleable__control:checked~label.sk-toggleable__label-arrow:before {content: \"▾\";}#sk-container-id-5 div.sk-estimator input.sk-toggleable__control:checked~label.sk-toggleable__label {background-color: #d4ebff;}#sk-container-id-5 div.sk-label input.sk-toggleable__control:checked~label.sk-toggleable__label {background-color: #d4ebff;}#sk-container-id-5 input.sk-hidden--visually {border: 0;clip: rect(1px 1px 1px 1px);clip: rect(1px, 1px, 1px, 1px);height: 1px;margin: -1px;overflow: hidden;padding: 0;position: absolute;width: 1px;}#sk-container-id-5 div.sk-estimator {font-family: monospace;background-color: #f0f8ff;border: 1px dotted black;border-radius: 0.25em;box-sizing: border-box;margin-bottom: 0.5em;}#sk-container-id-5 div.sk-estimator:hover {background-color: #d4ebff;}#sk-container-id-5 div.sk-parallel-item::after {content: \"\";width: 100%;border-bottom: 1px solid gray;flex-grow: 1;}#sk-container-id-5 div.sk-label:hover label.sk-toggleable__label {background-color: #d4ebff;}#sk-container-id-5 div.sk-serial::before {content: \"\";position: absolute;border-left: 1px solid gray;box-sizing: border-box;top: 0;bottom: 0;left: 50%;z-index: 0;}#sk-container-id-5 div.sk-serial {display: flex;flex-direction: column;align-items: center;background-color: white;padding-right: 0.2em;padding-left: 0.2em;position: relative;}#sk-container-id-5 div.sk-item {position: relative;z-index: 1;}#sk-container-id-5 div.sk-parallel {display: flex;align-items: stretch;justify-content: center;background-color: white;position: relative;}#sk-container-id-5 div.sk-item::before, #sk-container-id-5 div.sk-parallel-item::before {content: \"\";position: absolute;border-left: 1px solid gray;box-sizing: border-box;top: 0;bottom: 0;left: 50%;z-index: -1;}#sk-container-id-5 div.sk-parallel-item {display: flex;flex-direction: column;z-index: 1;position: relative;background-color: white;}#sk-container-id-5 div.sk-parallel-item:first-child::after {align-self: flex-end;width: 50%;}#sk-container-id-5 div.sk-parallel-item:last-child::after {align-self: flex-start;width: 50%;}#sk-container-id-5 div.sk-parallel-item:only-child::after {width: 0;}#sk-container-id-5 div.sk-dashed-wrapped {border: 1px dashed gray;margin: 0 0.4em 0.5em 0.4em;box-sizing: border-box;padding-bottom: 0.4em;background-color: white;}#sk-container-id-5 div.sk-label label {font-family: monospace;font-weight: bold;display: inline-block;line-height: 1.2em;}#sk-container-id-5 div.sk-label-container {text-align: center;}#sk-container-id-5 div.sk-container {/* jupyter's `normalize.less` sets `[hidden] { display: none; }` but bootstrap.min.css set `[hidden] { display: none !important; }` so we also need the `!important` here to be able to override the default hidden behavior on the sphinx rendered scikit-learn.org. See: https://github.com/scikit-learn/scikit-learn/issues/21755 */display: inline-block !important;position: relative;}#sk-container-id-5 div.sk-text-repr-fallback {display: none;}</style><div id=\"sk-container-id-5\" class=\"sk-top-container\"><div class=\"sk-text-repr-fallback\"><pre>SurvivalTree(max_depth=4)</pre><b>In a Jupyter environment, please rerun this cell to show the HTML representation or trust the notebook. <br />On GitHub, the HTML representation is unable to render, please try loading this page with nbviewer.org.</b></div><div class=\"sk-container\" hidden><div class=\"sk-item\"><div class=\"sk-estimator sk-toggleable\"><input class=\"sk-toggleable__control sk-hidden--visually\" id=\"sk-estimator-id-5\" type=\"checkbox\" checked><label for=\"sk-estimator-id-5\" class=\"sk-toggleable__label sk-toggleable__label-arrow\">SurvivalTree</label><div class=\"sk-toggleable__content\"><pre>SurvivalTree(max_depth=4)</pre></div></div></div></div></div>"
      ],
      "text/plain": [
       "SurvivalTree(max_depth=4)"
      ]
     },
     "execution_count": 166,
     "metadata": {},
     "output_type": "execute_result"
    }
   ],
   "source": [
    "tree.fit(df_dev.drop(columns=['TimetoMetastasesOrEFU', 'Metastases']), y)"
   ]
  },
  {
   "cell_type": "code",
   "execution_count": 167,
   "metadata": {},
   "outputs": [
    {
     "data": {
      "text/plain": [
       "0.8108108108108109"
      ]
     },
     "execution_count": 167,
     "metadata": {},
     "output_type": "execute_result"
    }
   ],
   "source": [
    "tree.score(df_dev.drop(columns=['TimetoMetastasesOrEFU', 'Metastases']), y)"
   ]
  },
  {
   "cell_type": "code",
   "execution_count": 171,
   "metadata": {},
   "outputs": [
    {
     "data": {
      "text/plain": [
       "0.0"
      ]
     },
     "execution_count": 171,
     "metadata": {},
     "output_type": "execute_result"
    }
   ],
   "source": [
    "y_val = np.array([(a, b) for a, b in zip(df_test['Metastases'], df_test['TimetoMetastasesOrEFU'])], dtype='bool,f')\n",
    "\n",
    "tree.score(df_test.drop(columns=['TimetoMetastasesOrEFU', 'Metastases']), y_val)"
   ]
  },
  {
   "cell_type": "code",
   "execution_count": 143,
   "metadata": {},
   "outputs": [],
   "source": [
    "test_datset = pd.read_spss('W:\\Cohort_EMC\\WSIproject_StageI_Anonymized.sav')\n",
    "\n",
    "dataset_cox_test = test_datset[['TimetoMetastasesOrEFU', 'Metastases', 'LVI', 'RTI', 'AdjuvantTreatment', 'TumorSize']].replace({'Yes': 1, 'No': 0}).dropna(axis=0)"
   ]
  },
  {
   "cell_type": "code",
   "execution_count": 144,
   "metadata": {},
   "outputs": [],
   "source": [
    "y_test = np.array([(a, b) for a, b in zip(dataset_cox_test['Metastases'], dataset_cox_test['TimetoMetastasesOrEFU'])], dtype='bool,f')"
   ]
  },
  {
   "cell_type": "code",
   "execution_count": 145,
   "metadata": {},
   "outputs": [
    {
     "data": {
      "text/plain": [
       "0.5643491124260355"
      ]
     },
     "execution_count": 145,
     "metadata": {},
     "output_type": "execute_result"
    }
   ],
   "source": [
    "tree.score(dataset_cox_test.drop(columns=['TimetoMetastasesOrEFU', 'Metastases']), y_test)"
   ]
  },
  {
   "cell_type": "code",
   "execution_count": 170,
   "metadata": {},
   "outputs": [],
   "source": [
    "X_train = df_dev.drop(columns=['TimetoMetastasesOrEFU', 'Metastases'])\n",
    "X_val = df_test.drop(columns=['TimetoMetastasesOrEFU', 'Metastases'])"
   ]
  },
  {
   "cell_type": "code",
   "execution_count": 186,
   "metadata": {},
   "outputs": [
    {
     "name": "stdout",
     "output_type": "stream",
     "text": [
      "Best parameters found:  {'max_depth': None, 'min_samples_split': 2}\n",
      "Best score found:  -0.5956439393939394\n"
     ]
    }
   ],
   "source": [
    "from sksurv.tree import SurvivalTree\n",
    "from sklearn.model_selection import GridSearchCV, train_test_split\n",
    "from sksurv.metrics import concordance_index_censored\n",
    "\n",
    "param_grid = {\n",
    "    'max_depth': [None, 10, 20],  # Specify the values you want to try for max_depth\n",
    "    'min_samples_split': [2, 5, 10]  # Specify the values you want to try for min_samples_split\n",
    "}\n",
    "\n",
    "# Create the SurvivalTree model\n",
    "tree = SurvivalTree()\n",
    "\n",
    "# Initialize GridSearchCV\n",
    "grid_search = GridSearchCV(tree, param_grid, cv=3, n_jobs=-1)\n",
    "\n",
    "# Fit the model using the grid search\n",
    "grid_search.fit(X_train, y_train)\n",
    "\n",
    "# Print the best parameters and the corresponding score\n",
    "print(\"Best parameters found: \", grid_search.best_params_)\n",
    "print(\"Best score found: \", -grid_search.best_score_)"
   ]
  },
  {
   "cell_type": "code",
   "execution_count": 187,
   "metadata": {},
   "outputs": [
    {
     "data": {
      "text/html": [
       "<style>#sk-container-id-8 {color: black;background-color: white;}#sk-container-id-8 pre{padding: 0;}#sk-container-id-8 div.sk-toggleable {background-color: white;}#sk-container-id-8 label.sk-toggleable__label {cursor: pointer;display: block;width: 100%;margin-bottom: 0;padding: 0.3em;box-sizing: border-box;text-align: center;}#sk-container-id-8 label.sk-toggleable__label-arrow:before {content: \"▸\";float: left;margin-right: 0.25em;color: #696969;}#sk-container-id-8 label.sk-toggleable__label-arrow:hover:before {color: black;}#sk-container-id-8 div.sk-estimator:hover label.sk-toggleable__label-arrow:before {color: black;}#sk-container-id-8 div.sk-toggleable__content {max-height: 0;max-width: 0;overflow: hidden;text-align: left;background-color: #f0f8ff;}#sk-container-id-8 div.sk-toggleable__content pre {margin: 0.2em;color: black;border-radius: 0.25em;background-color: #f0f8ff;}#sk-container-id-8 input.sk-toggleable__control:checked~div.sk-toggleable__content {max-height: 200px;max-width: 100%;overflow: auto;}#sk-container-id-8 input.sk-toggleable__control:checked~label.sk-toggleable__label-arrow:before {content: \"▾\";}#sk-container-id-8 div.sk-estimator input.sk-toggleable__control:checked~label.sk-toggleable__label {background-color: #d4ebff;}#sk-container-id-8 div.sk-label input.sk-toggleable__control:checked~label.sk-toggleable__label {background-color: #d4ebff;}#sk-container-id-8 input.sk-hidden--visually {border: 0;clip: rect(1px 1px 1px 1px);clip: rect(1px, 1px, 1px, 1px);height: 1px;margin: -1px;overflow: hidden;padding: 0;position: absolute;width: 1px;}#sk-container-id-8 div.sk-estimator {font-family: monospace;background-color: #f0f8ff;border: 1px dotted black;border-radius: 0.25em;box-sizing: border-box;margin-bottom: 0.5em;}#sk-container-id-8 div.sk-estimator:hover {background-color: #d4ebff;}#sk-container-id-8 div.sk-parallel-item::after {content: \"\";width: 100%;border-bottom: 1px solid gray;flex-grow: 1;}#sk-container-id-8 div.sk-label:hover label.sk-toggleable__label {background-color: #d4ebff;}#sk-container-id-8 div.sk-serial::before {content: \"\";position: absolute;border-left: 1px solid gray;box-sizing: border-box;top: 0;bottom: 0;left: 50%;z-index: 0;}#sk-container-id-8 div.sk-serial {display: flex;flex-direction: column;align-items: center;background-color: white;padding-right: 0.2em;padding-left: 0.2em;position: relative;}#sk-container-id-8 div.sk-item {position: relative;z-index: 1;}#sk-container-id-8 div.sk-parallel {display: flex;align-items: stretch;justify-content: center;background-color: white;position: relative;}#sk-container-id-8 div.sk-item::before, #sk-container-id-8 div.sk-parallel-item::before {content: \"\";position: absolute;border-left: 1px solid gray;box-sizing: border-box;top: 0;bottom: 0;left: 50%;z-index: -1;}#sk-container-id-8 div.sk-parallel-item {display: flex;flex-direction: column;z-index: 1;position: relative;background-color: white;}#sk-container-id-8 div.sk-parallel-item:first-child::after {align-self: flex-end;width: 50%;}#sk-container-id-8 div.sk-parallel-item:last-child::after {align-self: flex-start;width: 50%;}#sk-container-id-8 div.sk-parallel-item:only-child::after {width: 0;}#sk-container-id-8 div.sk-dashed-wrapped {border: 1px dashed gray;margin: 0 0.4em 0.5em 0.4em;box-sizing: border-box;padding-bottom: 0.4em;background-color: white;}#sk-container-id-8 div.sk-label label {font-family: monospace;font-weight: bold;display: inline-block;line-height: 1.2em;}#sk-container-id-8 div.sk-label-container {text-align: center;}#sk-container-id-8 div.sk-container {/* jupyter's `normalize.less` sets `[hidden] { display: none; }` but bootstrap.min.css set `[hidden] { display: none !important; }` so we also need the `!important` here to be able to override the default hidden behavior on the sphinx rendered scikit-learn.org. See: https://github.com/scikit-learn/scikit-learn/issues/21755 */display: inline-block !important;position: relative;}#sk-container-id-8 div.sk-text-repr-fallback {display: none;}</style><div id=\"sk-container-id-8\" class=\"sk-top-container\"><div class=\"sk-text-repr-fallback\"><pre>SurvivalTree(min_samples_split=2)</pre><b>In a Jupyter environment, please rerun this cell to show the HTML representation or trust the notebook. <br />On GitHub, the HTML representation is unable to render, please try loading this page with nbviewer.org.</b></div><div class=\"sk-container\" hidden><div class=\"sk-item\"><div class=\"sk-estimator sk-toggleable\"><input class=\"sk-toggleable__control sk-hidden--visually\" id=\"sk-estimator-id-8\" type=\"checkbox\" checked><label for=\"sk-estimator-id-8\" class=\"sk-toggleable__label sk-toggleable__label-arrow\">SurvivalTree</label><div class=\"sk-toggleable__content\"><pre>SurvivalTree(min_samples_split=2)</pre></div></div></div></div></div>"
      ],
      "text/plain": [
       "SurvivalTree(min_samples_split=2)"
      ]
     },
     "execution_count": 187,
     "metadata": {},
     "output_type": "execute_result"
    }
   ],
   "source": [
    "tree = SurvivalTree(max_depth=None, min_samples_split=2)\n",
    "tree.fit(X_train, y_train)"
   ]
  },
  {
   "cell_type": "code",
   "execution_count": 188,
   "metadata": {},
   "outputs": [
    {
     "data": {
      "text/plain": [
       "0.8243243243243243"
      ]
     },
     "execution_count": 188,
     "metadata": {},
     "output_type": "execute_result"
    }
   ],
   "source": [
    "tree.score(X_train, y_train)"
   ]
  },
  {
   "cell_type": "code",
   "execution_count": 189,
   "metadata": {},
   "outputs": [
    {
     "data": {
      "text/plain": [
       "0.25"
      ]
     },
     "execution_count": 189,
     "metadata": {},
     "output_type": "execute_result"
    }
   ],
   "source": [
    "tree.score(X_val, y_val)"
   ]
  }
 ],
 "metadata": {
  "kernelspec": {
   "display_name": "seminoma-relapse",
   "language": "python",
   "name": "python3"
  },
  "language_info": {
   "codemirror_mode": {
    "name": "ipython",
    "version": 3
   },
   "file_extension": ".py",
   "mimetype": "text/x-python",
   "name": "python",
   "nbconvert_exporter": "python",
   "pygments_lexer": "ipython3",
   "version": "3.11.5"
  },
  "orig_nbformat": 4
 },
 "nbformat": 4,
 "nbformat_minor": 2
}
